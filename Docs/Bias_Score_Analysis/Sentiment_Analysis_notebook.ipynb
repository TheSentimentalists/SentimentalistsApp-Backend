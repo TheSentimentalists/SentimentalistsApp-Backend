{
 "cells": [
  {
   "cell_type": "code",
   "execution_count": 1,
   "metadata": {},
   "outputs": [],
   "source": [
    "### https://towardsdatascience.com/my-absolute-go-to-for-sentiment-analysis-textblob-3ac3a11d524\n",
    "###\n",
    "### Subjectivity quantifies the amount of personal opinion and factual information\n",
    "### contained in the text. The higher subjectivity means that the text contains\n",
    "### personal opinion rather than factual information.\n",
    "\n",
    "from textblob import TextBlob\n",
    "#import sys\n",
    "#print(sys.executable)\n",
    "#sys.path"
   ]
  },
  {
   "cell_type": "code",
   "execution_count": 2,
   "metadata": {},
   "outputs": [
    {
     "data": {
      "text/plain": [
       "Sentiment(polarity=0.0, subjectivity=0.0)"
      ]
     },
     "execution_count": 2,
     "metadata": {},
     "output_type": "execute_result"
    }
   ],
   "source": [
    "text = TextBlob(\"This was a helpful example but I would prefer another one.\")\n",
    "\n",
    "#text = TextBlob(\"At the moment we think the epidemic is doubling every seven days. If, and that\\'s quite a big if, but ...\")\n",
    "\n",
    "text.sentiment"
   ]
  },
  {
   "cell_type": "code",
   "execution_count": 20,
   "metadata": {},
   "outputs": [
    {
     "data": {
      "text/plain": [
       "Sentiment(polarity=0.0, subjectivity=0.0)"
      ]
     },
     "execution_count": 20,
     "metadata": {},
     "output_type": "execute_result"
    }
   ],
   "source": [
    "text = TextBlob(\"This a horrible day.\")\n",
    "text.sentiment#.polarity\n",
    "\n",
    "text = TextBlob(\"These reports are the best ever!\")\n",
    "text.sentiment#.polarity\n",
    "\n",
    "text = TextBlob(\"This is a wonderful day\")\n",
    "text.sentiment#.polarity\n",
    "\n",
    "text = TextBlob(\"The reports from this tool are very useful\")\n",
    "text.sentiment#.polarity\n",
    "\n",
    "text = TextBlob(\"This should be neutral but I have a different opinion.\")\n",
    "text.sentiment#.polarity\n",
    "\n",
    "text = TextBlob(\"This was a helpful example but I would prefer another one.\")\n",
    "text.sentiment#.polarity"
   ]
  },
  {
   "cell_type": "code",
   "execution_count": 16,
   "metadata": {},
   "outputs": [
    {
     "name": "stdout",
     "output_type": "stream",
     "text": [
      "Url is valid\n"
     ]
    }
   ],
   "source": [
    "#pip install validators\n",
    "import validators\n",
    "valid=validators.url('https://bbc.co.uk')\n",
    "if valid==True:\n",
    "    print(\"Url is valid\")\n",
    "else:\n",
    "    print(\"Invalid url\")"
   ]
  },
  {
   "cell_type": "code",
   "execution_count": 3,
   "metadata": {},
   "outputs": [],
   "source": [
    "def validateURL(url):\n",
    "    import validators\n",
    "    valid = validators.url(url)\n",
    "    if valid==True:\n",
    "        return(1)\n",
    "    else:\n",
    "        return(-1);\n",
    "        \n",
    "def getText(url):\n",
    "    from newspaper import Article\n",
    "    ### Getting the Text\n",
    "    article = Article(url)\n",
    "    article.download()\n",
    "    article.parse()\n",
    "    text = article.text\n",
    "    ### Removing unwanted formatting\n",
    "    text = text.replace(\"\\n\\n\", \"\")\n",
    "    text = text.replace(\"Image copyright Getty Images \", \"\")\n",
    "    text = text.replace(\"Image copyright Getty Images/Reuters\", \"\")\n",
    "    text = text.replace(\"Image caption \", \"\")\n",
    "    text = text.replace(\"Media playback is unsupported on your device \", \"\")\n",
    "    text = text.replace(\"Media caption \", \"\")\n",
    "    return(text);\n",
    "\n",
    "def sentimentAnalysis(url):\n",
    "    from textblob import TextBlob\n",
    "    text = getText(url)\n",
    "    ### analysing the text \n",
    "    testimonial = TextBlob(text)\n",
    "    ## use the output as \"analysed_txt.sentiment\" or \"analysed_txt.sentences\"\n",
    "    return(testimonial); \n",
    " \n",
    "def getArticle(url):   \n",
    "#news_article = getArticle(url)\n",
    "#IMAGE' = news_article.top_image\n",
    "#KEYWORDS'= news_article.keywords\n",
    "#SUMMARY' = news_article.summary\n",
    "\n",
    "    from newspaper import Article\n",
    "    ## use the output to get features such as \"article.top_image\", \"article.keywords\", \"article.summary\"    \n",
    "    article = Article(url)\n",
    "    article.download()\n",
    "    article.parse()\n",
    "    article.nlp()\n",
    "    return(article)"
   ]
  },
  {
   "cell_type": "code",
   "execution_count": 81,
   "metadata": {},
   "outputs": [
    {
     "data": {
      "text/plain": [
       "1"
      ]
     },
     "execution_count": 81,
     "metadata": {},
     "output_type": "execute_result"
    }
   ],
   "source": [
    "#url = \"https://metro.co.uk/2020/09/21/ftse-100-suffers-worst-day-since-mid-june-as-shares-tumble-over-lockdown-fears-13304315/\"\n",
    "#url = \"https://www.thesun.co.uk/news/12710493/jeremy-clarkson-task-force-fix-a-bridge/\"\n",
    "#url = \"https://www.bbc.co.uk/news/uk-54234084\"\n",
    "#url = \"https://www.techpackmobileandgadgetcover.co.uk/auth\"\n",
    "#url = \"https://www.thesun.co.uk/news/12771727/battle-against-covid-lorraine-kelly/\"\n",
    "#url='xxx'\n",
    "#url = \"https://www.theguardian.com/us-news/2020/oct/04/trump-covid-white-house-panic-confusion\"\n",
    "#url = \"https://www.breitbart.com/2020-election/2020/10/03/as-trump-battles-covid-blm-antifa-disrupt-trump-rally-in-beverly-hills/\"\n",
    "#url = \"https://www.thesun.co.uk/news/12771727/battle-against-covid-lorraine-kelly/\"\n",
    "#url = \"https://foodbabe.com/mango-yogurt-milkshake-a-mango-lassi-tropical-treat/\"\n",
    "#url = \"https://www.wsj.com/articles/covid-19-left-u-k-s-boris-johnson-and-brazils-jair-bolsonaro-unscathed-politically-11601739583\"\n",
    "#url = \"https://www.foxnews.com/politics/trump-coronavirus-health-update-sunday-walter-reed\"\n",
    "#url = \"https://www.economist.com/leaders/2020/10/03/china-is-demolishing-villages-and-forcing-people-into-bigger-ones\"\n",
    "#url = \"https://www.breitbart.com/2020-election/2020/10/03/as-trump-battles-covid-blm-antifa-disrupt-trump-rally-in-beverly-hills/\"\n",
    "#url = \"https://metro.co.uk/2020/10/04/boris-johnson-admits-eat-out-to-help-out-could-have-helped-spread-covid-13370357/\"\n",
    "\n",
    "#url = 'https://www.ft.com/content/d2e00128-7889-4d5d-84a3-43e51355a751'\n",
    "#url = 'https://www.ft.com/content/fde4b931-6cd9-4cb2-8cec-89b3ac876b88'\n",
    "\n",
    "url = 'https://www.bbc.co.uk/news/science-environment-54442782'\n",
    "\n",
    "validateURL(url) ## 1 = valid, -1 = invalid"
   ]
  },
  {
   "cell_type": "code",
   "execution_count": 82,
   "metadata": {},
   "outputs": [
    {
     "data": {
      "text/plain": [
       "'The elevated heat globally contributed to record wildfires in CaliforniaSeptember was the warmest on record globally, according to the weather service Copernicus.It was 0.05C hotter than September last year, which in turn set the previous record high for the month.Scientists say it’s a clear indication of temperatures being driven up by emissions from human society.Copernicus, which is the European Union\\'s Earth observation programme, said warmth in the Siberian Arctic continues way above average.And it confirmed that Arctic sea ice is at its second lowest extent since satellite records began.This year is also projected to become the warmest on record for Europe, even if temperatures cool somewhat from now on.The elevated heat globally contributed to record wildfires in California and Australia.Why forest fires in Siberia, Russia threaten us allIt also helped fuel the hottest day on record - a searing 54.4C (130F) in Death Valley.And it had a hand in the torrential downpours that inundated the south of France with more than half a metre of rain in a day.Météo-France, the French met office, said a downpour like this was expected once in 100 years – they had two in a month.Deadly flash floods hit France and ItalySamantha Burgess, deputy director of the Copernicus Climate Change Service, told BBC News: \"Some of these events are extraordinary – although we mustn\\'t create a false expectation that temperatures will go up year on year.“Climate and weather are highly variable. But we predicted that these sort of events would happen, given our effect on the climate.”Weather records are always being broken naturally, but meteorologists say they’re disturbed by some of the new extremes.The UK is not immune. It enjoyed its sunniest Spring on record; August saw a record number of days overtopping 34C; and the town of Reading has just endured its wettest ever 48-hour period.Ed Hawkins, from Reading University, told us: “We have been saying this for decades – more and more greenhouse gases will lead to more and more warming.”Image copyright PA Media Crowds flocked to beaches across Britain during the summer heatHe warned these events are being experienced with just one degree of warming globally above the long-term average, while under current rates of decarbonisation the world is heading for three degrees.“One degree of heating is dangerous for some people, as we\\'ve seen,” he said. “Two degrees is more dangerous still, and three degrees even more dangerous. We really don’t want to find out what that’ll be like.”The records were released as the UK Prime Minister Boris Johnson said the UK would combat climate change by becoming the Saudi Arabia of wind energy.His speech was welcomed by environmentalists, but critics said he needed to back up his promises with policies and budgets.Follow Roger on Twitter @rharrabin'"
      ]
     },
     "execution_count": 82,
     "metadata": {},
     "output_type": "execute_result"
    }
   ],
   "source": [
    "###url = 'https://oglobo.globo.com/brasil/visita-de-bolsonaro-toffoli-expoe-crise-na-base-ideologica-com-indicacao-ao-stf-1-24676617'\n",
    "\n",
    "text = getText(url)\n",
    "text\n"
   ]
  },
  {
   "cell_type": "code",
   "execution_count": 35,
   "metadata": {},
   "outputs": [
    {
     "data": {
      "text/plain": [
       "0.4314774392274392"
      ]
     },
     "execution_count": 35,
     "metadata": {},
     "output_type": "execute_result"
    }
   ],
   "source": [
    "analysed_text = sentimentAnalysis(url)\n",
    "analysed_text.sentiment\n",
    "\n",
    "#analysed_text.sentiment.polarity\n",
    "analysed_text.sentiment.subjectivity\n"
   ]
  },
  {
   "cell_type": "code",
   "execution_count": 21,
   "metadata": {},
   "outputs": [
    {
     "name": "stdout",
     "output_type": "stream",
     "text": [
      "Sentiment(polarity=-0.07373737373737374, subjectivity=0.5611111111111112)\n",
      "WHEN I was training for the four marathons that I somehow managed to ­finish, I was given some terrific advice.I was told not to think about the 26.2 miles as one big scary lump, but to cut things up into manageable chunks, to take each mile as it comes and, when I was almost running on empty, to just think about getting to the next lamp-post.⚠️ Read our coronavirus live blog for the latest news & updates6 Our battle against Covid is long - but we will get there as a community Credit: AFP or licensorsIt sounds very simplistic but it worked, and I think it’s a message that could get us through life as we know it today.\n",
      "Sentiment(polarity=-0.0037581699346405225, subjectivity=0.64187675070028)\n",
      "We are all weary of this vile virus, and many of us are anxious, frightened and overwhelmed.I’ve had my share of waking up at 3am with my stomach churning and feeling as though a very large elephant is sitting on my chest.It’s to be expected with all the confusion, chaos and lack of clarity, but if we just take baby steps then it will be a whole lot easier.Listening to experts solemnly tell us that things won’t be back to normal in six months or even a year is tough to hear, extremely daunting and difficult to come to terms with right now.I don’t know about you, but I feel as though I’m at the bottom of a bloody big mountain without the right equipment to get to the top.Instead of panicking, though, I intend to concentrate on getting through all of this taking a week, or even a day, at a time.I think it’s really important to try to have something to look forward to, even if it’s just watching your favourite TV show, buying a newspaper or magazine or enjoying a video call with friends.\n",
      "Sentiment(polarity=-0.014583333333333344, subjectivity=0.3770833333333333)\n",
      "As you all know, I’ve found ­taking my dog Angus out for a walk makes me feel much less stressed.It’s sometimes hard to force myself out of the door, but once in the fresh air my spirits are always lifted.It’s also vital not to bottle everything up.\n",
      "Sentiment(polarity=-0.12, subjectivity=0.5085714285714286)\n",
      "If you are feeling desperate, please talk to your friends and family or someone else you trust.6 We all need to keep healthy, both mentally and physically, to get through this Credit: INSTAGRAM/LORRAINE KELLYYou aren’t alone in feeling tearful and confused.\n",
      "Sentiment(polarity=0.0, subjectivity=0.0)\n",
      "We have all been there.\n",
      "Sentiment(polarity=0.0, subjectivity=0.0)\n",
      "But trying to soldier on isn’t a sign of strength.\n",
      "Sentiment(polarity=0.26666666666666666, subjectivity=0.6833333333333332)\n",
      "It’s actually very brave to ask for help.This is a really crucial time and we all have to take responsibility for our own safety, protect ourselves and family and friends but also look out for everyone else.We will only get through this if we join forces and start acting like a proper community.\n",
      "Sentiment(polarity=0.08940836940836941, subjectivity=0.5045622895622895)\n",
      "We need to use our common sense and knuckle down to the new laws, no matter how tough they may be.Personally, I could weep for vulnerable elderly people in care homes who can’t see their families, for idealistic university students who are being told to stay in their tiny rooms when there’s a big wide world out there to explore and new friends to be made, and for anyone in danger of losing their job.And, of course, there are those still battling this illness, and families mourning the loss of those who have died.The only way we can ever hope to get our old way of life back is to make a massive effort right now, and try to stop this bastard of a virus from spreading until science can save us with a vaccine.We need to keep healthy, both mentally and physically, cut down on the booze and comfort-eating and concentrate on just getting through the next 24 hours.We will get there together.Gene and co still Rain supremeCAN I heartily recommend, to anyone in need of a pick-me-up, watching the classic 1952 musical Singin’ In The Rain.It’s utterly life-enhancing, with hilarious dialogue, incredible song-and-dance numbers and the glorious, rubber-faced Donald O’Connor doing a gravity-defying rendition of Make ’Em Laugh without the use of special effects.6 Singin’ In The Rain is the ultimate pick-me-up - I thoroughly recommend a watch Credit: MGMGene Kelly, pictured, and Cyd Charisse have never been more sexy and sultry together and Debbie Reynolds was the ultimate, fresh-faced all-American sweetheart.My favourite character of them all was the baddie Lina Lamont, who has the face of an angel and the voice of a screeching banshee.\n",
      "Sentiment(polarity=0.18000000000000002, subjectivity=0.5216666666666666)\n",
      "The movie just wouldn’t have been the same without Jean Hagen’s brilliant portrayal of this conniving but basically rather dim silent-screen actress.Even if you have seen this film before, I guarantee you will love it all over again and it’s as fresh and relevant today as it was 68 years ago.It’s make your mind up time for Harry and MeghanI SALUTE Harry and Meghan for urging people in the US to get out and vote, especially as they will be listened to by the younger electorate.They didn’t actually wear “Vote Biden” badges and urge citizens to put their cross in the box marked Democrat but they may as well have done.6 Harry and Meghan can't have one foot in and one foot out of the Royal FamilyBy sticking their necks out, however, it does leave the couple open to criticism.Inevitably, a huffy Donald Trump had a pop at Meghan but they will also have upset the Queen, who has tiptoed brilliantly through a field of political landmines during her 68 years on the throne and never put a foot wrong.\n",
      "Sentiment(polarity=0.2333333333333333, subjectivity=0.4666666666666666)\n",
      "I think Her Maj will take rather a dim view of her grandson’s grandstanding alongside her granddaughter-in-law.It’s time Harry and Meghan stopped playing the Hokey Cokey, with one foot out and one foot in the Royal Family, and severed official ties altogether.That means no longer having the titles of Duke and Duchess, being under any kind of obligation to the Crown or having to abide by the rules when it comes to talking about politics or accepting commercial deals.\n",
      "Sentiment(polarity=0.0813822939213564, subjectivity=0.5443390420343547)\n",
      "Of course, the Catch 22 here is that much of their cachet is built on those royal titles and any future lucrative deals could take a big hit.As plain old Harry and Meghan Windsor, they would be free to say what they want but would everyone still want to listen?They would also obviously still be very much part of the family, but just not members of the ROYAL family business.They can’t have it both ways.The Sun is top of the poppiesTHE Sun’s Poppy Appeal campaign, to encourage online donations while Covid-19 stops veterans and elderly volunteers having to go out to fundraise, is such a brilliant idea.And how wonderful to have the seal of approval of Captain Sir Tom Moore.6 Captain Tom launched The Sun's campaign to save the Poppy Appeal as vulnerable sellers can't take part this year Credit: News Group Newspapers LtdThis splendid man has become a symbol of hope in these tough times and, as an ex-serviceman, knows what a difference The Royal British Legion makes to the lives of our veterans.Covid restrictions mean many of the 40,000 indomitable volunteers – a lot of them veterans – cannot go out selling poppies because they are vulnerable to the virus.I know, from years of experience of working with them, that this has been a huge blow and could have a massive impact on fundraising.That’s why The Sun’s campaign is so very important.The men and women of our Armed Forces have made so many sacrifices over the years in conflicts including World War Two, Korea, the Falklands, Iraq and Afghanistan.Veterans and their families need our help more than ever and there are many ways you can make sure you wear your poppy with pride.You can simply go online and make a donation, visiting the online poppy shop for a range of themed products, and can also still buy a poppy from Sainsbury’s, Tesco, Asda, Aldi and Morrisons.I know times are tough, but whatever you can spare really will make all the difference.Sir Nick is man for jobDO you remember back in April when an Army general appeared at the now-scrapped daily 5pm coronavirus briefing?To be honest, when I saw the Chief of Defence Staff, General Sir Nick Carter, in uniform at the podium I heaved a sigh of relief.6 I'd rather have General Sir Nick Carter in charge of the Covid battle than Boris Johnson Credit: Getty - ContributorAt last the grown-ups were in charge and we might be getting somewhere.But we never saw Sir Nick there again.I reckon it was because he did far too good a job.The Government ministers were probably worried he would make them look even more incompetent if he were to appear on a regular basis.We know the Army worked hard behind the scenes to help build and equip the Nightingale hospitals across the country – which thankfully were not needed – and we are told they are on standby to help us get through the next few months.I, for one, whole-heartedly welcome the Army’s involvement and just wish at the start they had been given the job of distributing PPE, sorting out track-and-trace and making sure our testing centres were fit for purpose.I’d rather have Sir Nick in charge, exuding no-nonsense confidence, than quivering, out-of-his-depth Boris Johnson and his sorry gang of incompetents who couldn’t run a p***-up in the proverbial.Binge DeckBEST news of the week is that a new series of TV’s Below Deck has been given the green light.This reality show about life on the ocean continues to be my lockdown guilty pleasure.Most read in Opinion Comment TIM MARSHALL How US election could now go one of three ways — but Trump won't accept defeat Comment THE SUN ON SUNDAY SAYS Priti needs to battle dinghy-chasing lawyers to overhaul immigration Comment KARREN BRADY Let's focus on the glimmers of light in the darkness of our coronavirus tunnel Exclusive OLIVER DOWDEN How I'll save footie - and get fans back in stands as soon as possible Comment LORRAINE KELLY Poor Lynda Bellingham would be so sad over family rift after her son 'bans' her husband from his wedding Comment DAN WOOTTON I was mugged in Lawless London... it never occurred to me to dial 999The sheer escapism of observing spoilt rich people making clowns of themselves aboard breathtakingly expensive charter yachts, and the crew bickering, getting drunk and having sex with one another, is one of life’s joys.And don’t worry if you are late to the party.You can download Below Deck on Netflix then binge on the shows Below Deck Mediterranean and Below Deck Sailing Yacht on streaming service Hayu.Below Deck Med's Malia White appears to split from boyfriend Tom Checketts and accuse him of cheating in cryptic postGOT a story?\n",
      "Sentiment(polarity=0.0, subjectivity=0.0)\n",
      "RING The Sun on 0207 782 4104 or WHATSAPP on 07423720250 or EMAIL exclusive@the-sun.co.uk\n"
     ]
    }
   ],
   "source": [
    "for sentence in analysed_text.sentences:\n",
    "    print(sentence.sentiment)#.polarity)\n",
    "    print(sentence)"
   ]
  },
  {
   "cell_type": "code",
   "execution_count": 4,
   "metadata": {},
   "outputs": [
    {
     "data": {
      "text/plain": [
       "'But Mrs Chapman was lucky.\\nThe widow, from County Durham, does not have a computer and does not know how to operate one.\\n\"I was surprised,\" says Mrs Chapman.\\nBusinesses giving vulnerable customers targeted help?\\nThat would still prevent people such as Mrs Chapman, who do not have internet access, from getting the very cheapest deals.'"
      ]
     },
     "execution_count": 4,
     "metadata": {},
     "output_type": "execute_result"
    }
   ],
   "source": [
    "url = 'https://www.bbc.co.uk/news/business-54371469'\n",
    "news_article = getArticle(url)\n",
    "\n",
    "#news_article.top_image\n",
    "#news_article.keywords\n",
    "news_article.summary"
   ]
  },
  {
   "cell_type": "code",
   "execution_count": 36,
   "metadata": {},
   "outputs": [
    {
     "name": "stdout",
     "output_type": "stream",
     "text": [
      "The lists are identical\n"
     ]
    }
   ],
   "source": [
    "collections.Counter(test_list1) == collections.Counter(test_list2):\n",
    "\n",
    "\n",
    "list_kw\n",
    "\n",
    "# sorting both the lists \n",
    "list_kw.sort() \n",
    "news_article.keywords.sort() \n",
    "  \n",
    "# using == to check if  \n",
    "# lists are equal \n",
    "if list_kw == news_article.keywords:\n",
    "    print (\"The lists are identical\") \n",
    "else : \n",
    "    print (\"The lists are not identical\") \n",
    "    \n",
    "list_kw.sort() "
   ]
  },
  {
   "cell_type": "code",
   "execution_count": 24,
   "metadata": {},
   "outputs": [
    {
     "name": "stdout",
     "output_type": "stream",
     "text": [
      "Sentiment of the SUMMARY\n",
      "Sentiment(polarity=0.1125, subjectivity=0.43333333333333335)\n",
      "Sentiment of the Whole Article\n",
      "Sentiment(polarity=0.1125, subjectivity=0.43333333333333335)\n"
     ]
    }
   ],
   "source": [
    "text = TextBlob(news_article.summary)\n",
    "print('Sentiment of the SUMMARY')\n",
    "print(text.sentiment)\n",
    "\n",
    "print('Sentiment of the Whole Article')\n",
    "print(sentimentAnalysis(url).sentiment)"
   ]
  },
  {
   "cell_type": "code",
   "execution_count": 25,
   "metadata": {},
   "outputs": [
    {
     "data": {
      "text/plain": [
       "TextBlob(\"Asombrados por la victoria de Donald Trump sobre Hillary Clinton en 2016, algunos votantes estadounidenses renunciaron a las urnas para siempre, creyendo que las encuestas al público durante la campaña no les habían alertado sobre la plausibilidad de una victoria republicana.\n",
       "Clinton disfrutó de lo que parecía ser una ventaja segura en las encuestas durante la campaña de 2016, y los datos de las encuestas de este año muestran que el candidato demócrata, esta vez Joe Biden, está cómodamente por delante.\n",
       "Pero si no puede confiar en las encuestas para pronosticar el resultado, ¿qué podría pasar el 3 de noviembre?\n",
       "El Times ha elaborado una herramienta para explorar ocho posibles resultados, desde un deslizamiento de tierra de Biden hasta una repetición de 2016.\n",
       "Seleccione un escenario de día de resultados para ver cómo el mapa político de los Estados Unidos\")"
      ]
     },
     "execution_count": 25,
     "metadata": {},
     "output_type": "execute_result"
    }
   ],
   "source": [
    "### OTHERS\n",
    "#translate\n",
    "b = TextBlob(news_article.summary)\n",
    "b.translate(to=\"es\")"
   ]
  },
  {
   "cell_type": "code",
   "execution_count": 26,
   "metadata": {},
   "outputs": [
    {
     "name": "stdout",
     "output_type": "stream",
     "text": [
      "https://www.bbc.co.uk/news/localnews\n",
      "https://www.bbc.co.uk/news/uk-politics-54407656\n",
      "https://www.bbc.co.uk/programmes/articles/1FrKZb474FwlYjq4TkgK1Xb/seven-things-we-learned-from-samantha-mortons-desert-island-discs\n",
      "https://www.bbc.co.uk/news/coronavirus\n",
      "https://www.bbc.co.uk/news/business-53731404\n",
      "https://www.bbc.co.uk/news/business-54407213\n",
      "https://www.bbc.co.uk/news/stories-54366336\n",
      "https://www.bbc.co.uk/news/live/world-54382914\n",
      "https://www.bbc.co.uk/news/election-us-2020-54405734\n",
      "https://www.bbc.co.uk/news/entertainment-arts-54408868\n",
      "https://www.bbc.co.uk/news/uk\n",
      "https://www.bbc.co.uk/news/uk-scotland-54409026\n",
      "https://www.bbc.co.uk/news/uk-wales-51888681\n",
      "https://www.bbc.co.uk/news/uk-northern-ireland-54403998\n",
      "https://www.bbc.co.uk/iplayer/episode/p08svvhc/later-live-tracks-london-grammar-baby-its-you-live-on-later\n",
      "https://www.bbc.co.uk/news/uk-54401690\n",
      "https://www.bbc.co.uk/news/uk-england-54297993\n",
      "https://www.bbc.co.uk/news/stories-54349897\n",
      "https://www.bbc.co.uk/news/uk-england-cumbria-54393345\n",
      "https://www.bbc.co.uk/news/england/cumbria\n",
      "https://www.bbc.co.uk/news/science-environment-54373183\n",
      "https://www.bbc.co.uk/news/science_and_environment\n",
      "https://www.bbc.co.uk/news/uk-politics-54390087\n",
      "https://www.bbc.co.uk/news/politics\n",
      "https://www.bbc.co.uk/bbcthree/article/9bcab621-dadb-4017-b89c-1e3e8f507ae2\n",
      "https://www.bbc.co.uk/news/uk-wales-54403479\n",
      "https://www.bbc.co.uk/food/collections/5_ways_to_add_veg_to_breakfast\n",
      "https://www.bbc.co.uk/programmes/articles/3ZwhSmmt2WnD16hycSzGGs2/how-to-avoid-laptop-syndrome-while-youre-working-from-home\n",
      "https://www.bbc.co.uk/news/world-europe-54370658\n",
      "https://www.bbc.co.uk/news/election-us-2020-54386681\n",
      "https://www.bbc.co.uk/news/uk-scotland-tayside-central-54250044\n",
      "https://www.bbc.co.uk/iplayer/episode/p08pkr8d/little-mix-the-search-series-1-1-boyband?xtor=CS8-1000-[Discovery_Cards]-[Multi_Site]-[SL01]-[PS_IPLAYER~C~~P_LittleMixTheSearchS1E1]\n",
      "https://www.bbc.co.uk/iplayer/episode/m000n1x3/the-hit-list-series-3-episode-1?xtor=CS8-1000-[Discovery_Cards]-[Multi_Site]-[SL01]-[PS_IPLAYER~C~~P_TheHitListS3E1]\n",
      "https://www.bbc.co.uk/iplayer/episode/m000n7zf/strictly-come-dancing-the-best-of-3-musicals?xtor=CS8-1000-[Discovery_Cards]-[Multi_Site]-[SL01]-[PS_IPLAYER~C~~P_StrictlyComeDancingTheBestOfMusicals]\n",
      "https://www.bbc.co.uk/iplayer/episode/p08qy6vm/just-one-night-series-1-6-phoebe-and-ruairi?xtor=CS8-1000-[Discovery_Cards]-[Multi_Site]-[SL01]-[PS_IPLAYER~C~~P_JustOneNightS1E1]\n",
      "https://www.bbc.co.uk/news/help-41670342\n"
     ]
    }
   ],
   "source": [
    "#####https://newspaper.readthedocs.io/en/latest/\n",
    "import newspaper\n",
    "\n",
    "cnn_paper = newspaper.build('https://www.bbc.co.uk/')\n",
    "\n",
    "for article in cnn_paper.articles:\n",
    "    print(article.url)"
   ]
  },
  {
   "cell_type": "code",
   "execution_count": 27,
   "metadata": {},
   "outputs": [
    {
     "name": "stdout",
     "output_type": "stream",
     "text": [
      "https://www.bbc.co.uk/\n",
      "https://downloads.bbc.co.uk\n",
      "https://www.bbc.co.uk\n"
     ]
    }
   ],
   "source": [
    "for category in cnn_paper.category_urls():\n",
    "    print(category)"
   ]
  },
  {
   "cell_type": "code",
   "execution_count": 28,
   "metadata": {},
   "outputs": [
    {
     "data": {
      "text/plain": [
       "'Get the news that’s local to you'"
      ]
     },
     "execution_count": 28,
     "metadata": {},
     "output_type": "execute_result"
    }
   ],
   "source": [
    "cnn_article = cnn_paper.articles[0]\n",
    "cnn_article.download()\n",
    "cnn_article.parse()\n",
    "cnn_article.nlp()\n",
    "cnn_article.text"
   ]
  },
  {
   "cell_type": "code",
   "execution_count": 29,
   "metadata": {},
   "outputs": [
    {
     "data": {
      "text/plain": [
       "'Media playback is unsupported on your device Media caption Boris Johnson: \"It\\'s going to continue to be bumpy through to Christmas\"\\n\\nBoris Johnson has warned it may be \"bumpy through to Christmas\" and beyond as the UK deals with coronavirus.\\n\\nSpeaking to the BBC\\'s Andrew Marr, the PM said there was \"hope\" in beating Covid, but called on the public to \"act fearlessly but with common sense\".\\n\\nHe said the government was taking a \"balanced\" approach between saving lives and protecting the economy.\\n\\nHis comments come as the UK announced more than 10,000 new cases for the first time since mass testing began.\\n\\nThere were 12,872 new cases announced on Saturday. However, the government said a technical issue meant some cases earlier in the week were not recorded at the time so had been included in Saturday\\'s data.\\n\\nThe prime minister said: \"The best thing we can do now for all those who have suffered in the course of this pandemic is bring it to an end in the speediest possible way.\"\\n\\nLabour\\'s shadow health minister, Alex Norris, criticised the interview as a \"wasted opportunity\" to set out a \"serious strategy to improve public confidence in the government\\'s handling of this crisis\".\\n\\nHe said: \"Instead [the PM] waffled and ducked every question. His serial incompetence is holding Britain back.\"\\n\\nMr Johnson said he believed over the \"next few weeks and months\" the \"scientific equation will change whether that is vaccines or testing\" and there will be \"progress\" in beating the virus.\\n\\nAs a result, he said there was \"hope\" and \"things can be significantly different by Christmas\", as well as being \"radically different\" by spring.\\n\\nBut, the prime minister warned there could be \"a very tough winter for all of us\", adding: \"I tell you in all candour, it will continue to be bumpy through to Christmas and may even be bumpy beyond.\"\\n\\nIs Boris Johnson optimistic or pessimistic about the fight against Covid? He seems to be a bit of both.\\n\\nThe prime minister\\'s prediction for the next few months is gloomy - winter will be \"bumpy\".\\n\\nRestrictions of varying degrees could be with us for months.\\n\\nBut at the same time, he is urging people to be fearless if they use common sense - and believes a \"radically different\" spring is around the corner.\\n\\nThe short-term forecast is downbeat. But the PM wants to retain hope that things could improve again in the not so distant future.\\n\\nLabour has been a long-standing critic of the performance of the Test and Trace system, with its leader, Sir Keir Starmer, accusing the government of having \"lost control\" of the virus.\\n\\nMr Johnson said the system was \"not perfect\" and that he was \"frustrated with it\".\\n\\nBut he defended its \"massive increase in capacity\", saying it had \"made a huge difference\" in tackling Covid-19.\\n\\nMr Johnson also stood by the Eat Out to Help Out restaurant discount introduced in August, which some critics have said added to the rise in coronavirus cases in September.\\n\\n\"In so far as that scheme may have helped to spread the virus then obviously we need to counteract that and we need to counteract that with the discipline and the measures that we\\'re proposing,\" he said.\\n\\nBut he insisted it was \"right to reopen the economy\" as the government tries to \"strike the right balance\".\\n\\nMr Johnson said he took \"full responsibility for everything that has happened since the pandemic began\".\\n\\n\\'Suspicion\\'\\n\\nAsked about how effective the latest local lockdowns were in tackling the growing number of cases, the prime minister said it was \"too early to say\".\\n\\nMr Johnson said he understood the \"frustrations\" of people living in the affected areas - as well as a number of his own backbench MPs - but defended the action, saying: \"I\\'m a freedom-loving Tory. I don\\'t want to have to impose measures like this, are you crazy?\\n\\n\"This is the last thing we want to do. But I also have to save life. And that\\'s our priority.\"\\n\\n\"And I also think, by the way, that\\'s the priority of the British people and I think they will want to see their government continue to work, continuing to fight the virus and that\\'s what we\\'re doing.\"\\n\\nLabour\\'s shadow health secretary Jon Ashworth earlier called for the government to publish guidelines on what criteria they used to impose local lockdowns, and to involve local council leaders and health officials.\\n\\nHe said there were questions as to why current areas have extra restrictions, while the constituencies of cabinet ministers with higher case numbers remained unchanged.\\n\\n\"Because there are no clear guidelines as to why an area goes into restrictions, and how an area comes out of restrictions, then there is a suspicion that there is political interference,\" he told Andrew Marr.\\n\\n\"I hope there isn\\'t. But until the government publish clear guidelines, that suspicion will always linger.\"\\n\\nMedia playback is unsupported on your device Media caption Andrew Marr challenged the PM over his comments about people becoming \"complacent\" over Covid-19\\n\\nMr Johnson was also asked about his health following his own experience of fighting coronavirus in March and April - and in light of US President Donald Trump testing positive.\\n\\nThe prime minister said when he had the virus he was \"too fat\" and it was a \"teachable moment for our great country\" to get on top of the issue of obesity.\\n\\nBut he claimed it was \"balderdash\" that he was still suffering from the effects of coronavirus, known as \"long Covid\".\\n\\nHe said the claim was \"drivel\", adding: \"It is balderdash and nonsense. I can tell you I\\'m fitter than several butchers\\' dogs.\"\\n\\nThe Conservatives are currently holding their first virtual party conference due to coronavirus restrictions on mass gatherings.'"
      ]
     },
     "execution_count": 29,
     "metadata": {},
     "output_type": "execute_result"
    }
   ],
   "source": [
    "cnn_article = cnn_paper.articles[1]\n",
    "cnn_article.download()\n",
    "cnn_article.parse()\n",
    "cnn_article.nlp()\n",
    "cnn_article.text"
   ]
  },
  {
   "cell_type": "code",
   "execution_count": 15,
   "metadata": {},
   "outputs": [
    {
     "data": {
      "text/plain": [
       "&quot;WHEN I was training for the four marathons that I somehow managed to \\xadfinish, I was given some terrific advice.I was told not to think about the 26.2 miles as one big scary lump, but to cut things up into manageable chunks, to take each mile as it comes and, when I was almost running on empty, to just think about getting to the next lamp-post.⚠️ Read our coronavirus live blog for the latest news &amp; updates6 Our battle against Covid is long - but we will get there as a community Credit: AFP or licensorsIt sounds very simplistic but it worked, and I think it’s a message that could get us through life as we know it today. We are all weary of this vile virus, and many of us are anxious, frightened and overwhelmed.I’ve had my share of waking up at 3am with my stomach churning and feeling as though a very large elephant is sitting on my chest.It’s to be expected with all the confusion, chaos and lack of clarity, but if we just take baby steps then it will be a whole lot easier.Listening to experts solemnly tell us that things won’t be back to normal in six months or even a year is tough to hear, extremely daunting and difficult to come to terms with right now.I don’t know about you, but I feel as though I’m at the bottom of a bloody big mountain without the right equipment to get to the top.Instead of panicking, though, I intend to concentrate on getting through all of this taking a week, or even a day, at a time.I think it’s really important to try to have something to look forward to, even if it’s just watching your favourite TV show, buying a newspaper or magazine or enjoying a video call with friends. As you all know, I’ve found \\xadtaking my dog Angus out for a walk makes me feel much less stressed.It’s sometimes hard to force myself out of the door, but once in the fresh air my spirits are always lifted.It’s also vital not to bottle everything up. If you are feeling desperate, please talk to your friends and family or someone else you trust.6 We all need to keep healthy, both mentally and physically, to get through this Credit: INSTAGRAM/LORRAINE KELLYYou aren’t alone in feeling tearful and confused. We have all been there. But trying to soldier on isn’t a sign of strength. It’s actually very brave to ask for help.This is a really crucial time and we all have to take responsibility for our own safety, protect ourselves and family and friends but also look out for everyone else.We will only get through this if we join forces and start acting like a proper community. We need to use our common sense and knuckle down to the new laws, no matter how tough they may be.Personally, I could weep for vulnerable elderly people in care homes who can’t see their families, for idealistic university students who are being told to stay in their tiny rooms when there’s a big wide world out there to explore and new friends to be made, and for anyone in danger of losing their job.And, of course, there are those still battling this illness, and families mourning the loss of those who have died.The only way we can ever hope to get our old way of life back is to make a massive effort right now, and try to stop this bastard of a virus from spreading until science can save us with a vaccine.We need to keep healthy, both mentally and physically, cut down on the booze and comfort-eating and concentrate on just getting through the next 24 hours.We will get there together.Gene and co still Rain supremeCAN I heartily recommend, to anyone in need of a pick-me-up, watching the classic 1952 musical Singin’ In The Rain.It’s utterly life-enhancing, with hilarious dialogue, incredible song-and-dance numbers and the glorious, rubber-faced Donald O’Connor doing a gravity-defying rendition of Make ’Em Laugh without the use of special effects.6 Singin’ In The Rain is the ultimate pick-me-up - I thoroughly recommend a watch Credit: MGMGene Kelly, pictured, and Cyd Charisse have never been more sexy and sultry together and Debbie Reynolds was the ultimate, fresh-faced all-American sweetheart.My favourite character of them all was the baddie Lina Lamont, who has the face of an angel and the voice of a screeching banshee. The movie just wouldn’t have been the same without Jean Hagen’s brilliant portrayal of this conniving but basically rather dim silent-screen actress.Even if you have seen this film before, I guarantee you will love it all over again and it’s as fresh and relevant today as it was 68 years ago.It’s make your mind up time for Harry and MeghanI SALUTE Harry and Meghan for urging people in the US to get out and vote, especially as they will be listened to by the younger electorate.They didn’t actually wear “Vote Biden” badges and urge citizens to put their cross in the box marked Democrat but they may as well have done.6 Harry and Meghan can&#39;t have one foot in and one foot out of the Royal FamilyBy sticking their necks out, however, it does leave the couple open to criticism.Inevitably, a huffy Donald Trump had a pop at Meghan but they will also have upset the Queen, who has tiptoed brilliantly through a field of political landmines during her 68 years on the throne and never put a foot wrong. I think Her Maj will take rather a dim view of her grandson’s grandstanding alongside her granddaughter-in-law.It’s time Harry and Meghan stopped playing the Hokey Cokey, with one foot out and one foot in the Royal Family, and severed official ties altogether.That means no longer having the titles of Duke and Duchess, being under any kind of obligation to the Crown or having to abide by the rules when it comes to talking about politics or accepting commercial deals. Of course, the Catch 22 here is that much of their cachet is built on those royal titles and any future lucrative deals could take a big hit.As plain old Harry and Meghan Windsor, they would be free to say what they want but would everyone still want to listen?They would also obviously still be very much part of the family, but just not members of the ROYAL family business.They can’t have it both ways.The Sun is top of the poppiesTHE Sun’s Poppy Appeal campaign, to encourage online donations while Covid-19 stops veterans and elderly volunteers having to go out to fundraise, is such a brilliant idea.And how wonderful to have the seal of approval of Captain Sir Tom Moore.6 Captain Tom launched The Sun&#39;s campaign to save the Poppy Appeal as vulnerable sellers can&#39;t take part this year Credit: News Group Newspapers LtdThis splendid man has become a symbol of hope in these tough times and, as an ex-serviceman, knows what a difference The Royal British Legion makes to the lives of our veterans.Covid restrictions mean many of the 40,000 indomitable volunteers – a lot of them veterans – cannot go out selling poppies because they are vulnerable to the virus.I know, from years of experience of working with them, that this has been a huge blow and could have a massive impact on fundraising.That’s why The Sun’s campaign is so very important.The men and women of our Armed Forces have made so many sacrifices over the years in conflicts including World War Two, Korea, the Falklands, Iraq and Afghanistan.Veterans and their families need our help more than ever and there are many ways you can make sure you wear your poppy with pride.You can simply go online and make a donation, visiting the online poppy shop for a range of themed products, and can also still buy a poppy from Sainsbury’s, Tesco, Asda, Aldi and Morrisons.I know times are tough, but whatever you can spare really will make all the difference.Sir Nick is man for jobDO you remember back in April when an Army general appeared at the now-scrapped daily 5pm coronavirus briefing?To be honest, when I saw the Chief of Defence Staff, General Sir Nick Carter, in uniform at the podium I heaved a sigh of relief.6 I&#39;d rather have General Sir Nick Carter in charge of the Covid battle than Boris Johnson Credit: Getty - ContributorAt last the grown-ups were in charge and we might be getting somewhere.But we never saw Sir Nick there again.I reckon it was because he did far too good a job.The Government ministers were probably worried he would make them look even more incompetent if he were to appear on a regular basis.We know the Army worked hard behind the scenes to help build and equip the Nightingale hospitals across the country – which thankfully were not needed – and we are told they are on standby to help us get through the next few months.I, for one, whole-heartedly welcome the Army’s involvement and just wish at the start they had been given the job of distributing PPE, sorting out track-and-trace and making sure our testing centres were fit for purpose.I’d rather have Sir Nick in charge, exuding no-nonsense confidence, than quivering, out-of-his-depth Boris Johnson and his sorry gang of incompetents who couldn’t run a p***-up in the proverbial.Binge DeckBEST news of the week is that a new series of TV’s Below Deck has been given the green light.This reality show about life on the ocean continues to be my lockdown guilty pleasure.Most read in Opinion Comment TIM MARSHALL How US election could now go one of three ways — but Trump won&#39;t accept defeat Comment THE SUN ON SUNDAY SAYS Priti needs to battle dinghy-chasing lawyers to overhaul immigration Comment KARREN BRADY Let&#39;s focus on the glimmers of light in the darkness of our coronavirus tunnel Exclusive OLIVER DOWDEN How I&#39;ll save footie - and get fans back in stands as soon as possible Comment LORRAINE KELLY Poor Lynda Bellingham would be so sad over family rift after her son &#39;bans&#39; her husband from his wedding Comment THE SUN SAYS William grew into a leader helping Britain face one of its darkest timesThe sheer escapism of observing spoilt rich people making clowns of themselves aboard breathtakingly expensive charter yachts, and the crew bickering, getting drunk and having sex with one another, is one of life’s joys.And don’t worry if you are late to the party.You can download Below Deck on Netflix then binge on the shows Below Deck Mediterranean and Below Deck Sailing Yacht on streaming service Hayu.Below Deck Med&#39;s Malia White appears to split from boyfriend Tom Checketts and accuse him of cheating in cryptic postGOT a story? RING The Sun on 0207 782 4104 or WHATSAPP on 07423720250 or EMAIL exclusive@the-sun.co.uk&quot;"
      ]
     },
     "execution_count": 15,
     "metadata": {},
     "output_type": "execute_result"
    }
   ],
   "source": [
    "text"
   ]
  },
  {
   "cell_type": "code",
   "execution_count": 16,
   "metadata": {
    "tags": []
   },
   "outputs": [
    {
     "name": "stderr",
     "output_type": "stream",
     "text": [
      "[nltk_data] Downloading package vader_lexicon to\n",
      "[nltk_data]     C:\\Users\\ana\\AppData\\Roaming\\nltk_data...\n",
      "[nltk_data]   Package vader_lexicon is already up-to-date!\n"
     ]
    }
   ],
   "source": [
    "## VADER\n",
    "## https://www.geeksforgeeks.org/python-sentiment-analysis-using-vader/\n",
    "\n",
    "import nltk \n",
    "import nltk.data\n",
    "nltk.download('vader_lexicon')\n",
    "from vaderSentiment.vaderSentiment import SentimentIntensityAnalyzer\n",
    "\n",
    "# function to print sentiments \n",
    "# of the sentence. \n",
    "def sentiment_scores(sentence): \n",
    "  \n",
    "    # Create a SentimentIntensityAnalyzer object. \n",
    "    sid_obj = SentimentIntensityAnalyzer() \n",
    "  \n",
    "    # polarity_scores method of SentimentIntensityAnalyzer \n",
    "    # oject gives a sentiment dictionary. \n",
    "    # which contains pos, neg, neu, and compound scores. \n",
    "    sentiment_dict = sid_obj.polarity_scores(sentence) \n",
    "      \n",
    "    print(\"Overall sentiment dictionary is : \", sentiment_dict) \n",
    "    print(\"sentence was rated as \", sentiment_dict['neg']*100, \"% Negative\") \n",
    "    print(\"sentence was rated as \", sentiment_dict['neu']*100, \"% Neutral\") \n",
    "    print(\"sentence was rated as \", sentiment_dict['pos']*100, \"% Positive\") \n",
    "  \n",
    "    print(\"Sentence Overall Rated As\", end = \" \") \n",
    "  \n",
    "    # decide sentiment as positive, negative and neutral \n",
    "    if sentiment_dict['compound'] >= 0.05 : \n",
    "        print(\"Positive\") \n",
    "  \n",
    "    elif sentiment_dict['compound'] <= - 0.05 : \n",
    "        print(\"Negative\") \n",
    "  \n",
    "    else : \n",
    "        print(\"Neutral\") \n",
    "  \n",
    "  "
   ]
  },
  {
   "cell_type": "markdown",
   "metadata": {},
   "source": []
  },
  {
   "cell_type": "code",
   "execution_count": 19,
   "metadata": {
    "tags": []
   },
   "outputs": [
    {
     "name": "stdout",
     "output_type": "stream",
     "text": [
      "This was a helpful example but I would prefer another one.\n",
      "\n",
      "URL Text\n",
      "Overall sentiment dictionary is :  {'neg': 0.0, 'neu': 0.84, 'pos': 0.16, 'compound': 0.2263}\n",
      "sentence was rated as  0.0 % Negative\n",
      "sentence was rated as  84.0 % Neutral\n",
      "sentence was rated as  16.0 % Positive\n",
      "Sentence Overall Rated As Positive\n"
     ]
    }
   ],
   "source": [
    "print(text)\n",
    "# Driver code \n",
    "if __name__ == \"__main__\" : \n",
    "  \n",
    "    #print(\"\\n1st statement :\") \n",
    "    #sentence = \"Geeks For Geeks is the best portal for the computer science engineering students.\" \n",
    "  \n",
    "    # function calling \n",
    "    #sentiment_scores(sentence) \n",
    "  \n",
    "    #print(\"\\n2nd Statement :\") \n",
    "    #sentence = \"This was a helpful example but I would prefer another one.\" ###\"study is going on as usual\"\n",
    "    #sentiment_scores(sentence) \n",
    "  \n",
    "    #print(\"\\n3rd Statement :\") \n",
    "    #sentence = \"I am vey sad today.\"\n",
    "    #sentiment_scores(sentence) \n",
    "\n",
    "    print(\"\\nURL Text\") \n",
    "    sentence = text \n",
    "    sentiment_scores(sentence) "
   ]
  },
  {
   "cell_type": "code",
   "execution_count": null,
   "metadata": {},
   "outputs": [],
   "source": []
  },
  {
   "cell_type": "code",
   "execution_count": 18,
   "metadata": {},
   "outputs": [],
   "source": [
    "url = \"https://www.economist.com/leaders/2020/10/03/china-is-demolishing-villages-and-forcing-people-into-bigger-ones\"\n",
    "text = getText(url)\n",
    "\n",
    "text = \"This was a helpful example but I would prefer another one.\"\n",
    "#text = \"This should be neutral but I have a different opinion.\""
   ]
  },
  {
   "cell_type": "code",
   "execution_count": null,
   "metadata": {},
   "outputs": [],
   "source": []
  },
  {
   "cell_type": "code",
   "execution_count": 2,
   "metadata": {},
   "outputs": [
    {
     "name": "stdout",
     "output_type": "stream",
     "text": [
      "[('Alex Smith', 'PERSON'), ('Acme Corp Inc.', 'ORG')]\n"
     ]
    }
   ],
   "source": [
    "########### SPACY\n",
    "import spacy\n",
    "nlp = spacy.load(\"en_core_web_sm\")\n",
    "doc = nlp(\"Dr. Alex Smith chaired first board meeting of Acme Corp Inc.\")\n",
    "print([(ent.text, ent.label_) for ent in doc.ents])"
   ]
  },
  {
   "cell_type": "code",
   "execution_count": 7,
   "metadata": {},
   "outputs": [
    {
     "name": "stdout",
     "output_type": "stream",
     "text": [
      "[('Patrick Vallance', 'PERSON'), ('Covid-19The UK', 'PERSON'), ('50,000', 'CARDINAL'), ('mid-October', 'DATE'), ('Patrick Vallance', 'PERSON'), ('a month', 'DATE'), ('Cobra', 'ORG'), ('Tuesday', 'DATE'), ('morning', 'TIME'), ('the House of Commons', 'ORG'), ('Monday', 'DATE'), ('4,368', 'CARDINAL'), ('daily', 'DATE'), ('UK', 'GPE'), ('3,899.A', 'CARDINAL'), ('11', 'CARDINAL'), ('28 days', 'DATE'), ('the weekend', 'DATE'), ('Mondays', 'DATE'), ('Downing Street', 'FAC'), ('Prof Chris Whitty', 'PERSON'), ('Patrick', 'PERSON'), ('every seven days', 'DATE'), ('every seven days', 'DATE'), ('like 50,000', 'CARDINAL'), ('the middle of October per day', 'DATE'), ('\"Fifty-thousand', 'CARDINAL'), ('lead a month later', 'DATE'), ('the middle of November', 'DATE'), ('seven days', 'DATE'), ('Whitty', 'PERSON'), ('every seven days', 'DATE'), ('Patrick', 'PERSON'), ('UK', 'GPE'), ('Prof Whitty', 'ORG'), ('Patrick', 'PERSON'), ('70,000', 'CARDINAL'), ('UK', 'GPE'), ('about 6,000', 'CARDINAL'), ('ONS study)Less', 'ORG'), ('8%', 'PERCENT'), ('as high as 17%', 'PERCENT'), ('LondonThe', 'ORG'), ('six-month', 'DATE'), ('April', 'DATE'), ('the end of the year', 'DATE'), ('the first half of next year', 'DATE'), ('recent weeks', 'DATE'), ('about 50,000', 'CARDINAL'), ('mid-October', 'DATE'), ('spring', 'DATE'), ('100,000.However', 'DATE'), ('one', 'CARDINAL'), ('six', 'CARDINAL'), ('just a week ago', 'DATE'), ('this time of year', 'DATE'), ('Spain', 'GPE'), ('France', 'GPE'), ('UK', 'GPE'), ('the spring', 'DATE'), ('Whitty', 'ORG'), ('UK', 'GPE'), ('7,000', 'CARDINAL'), ('annually', 'DATE'), ('20,000', 'CARDINAL'), ('a bad year', 'DATE'), ('Northern Ireland', 'GPE'), ('18:00 BST', 'TIME'), ('Tuesday', 'DATE'), ('England', 'GPE'), ('West Yorkshire', 'GPE'), ('Midlands', 'GPE'), ('four', 'CARDINAL'), ('Wales', 'ORG'), ('Tuesday', 'DATE'), ('Scotland', 'GPE'), ('the next couple of days', 'DATE'), ('First', 'ORG'), ('Nicola Sturgeon', 'PERSON'), ('four', 'CARDINAL'), ('Welsh Health', 'PERSON'), ('Vaughan Gething', 'PERSON'), ('UK', 'GPE'), ('four', 'QUANTITY'), ('Boris Johnson', 'PERSON'), ('Monday afternoon', 'TIME'), ('Health', 'ORG'), ('Matt Hancock', 'PERSON'), ('England', 'GPE'), ('the age of 14', 'DATE'), ('two', 'CARDINAL'), ('Monday morning', 'TIME'), ('Downing Street', 'FAC'), ('March', 'DATE'), ('Laura', 'GPE'), ('Sunday', 'DATE'), ('Downing Street', 'FAC'), ('Prof Whitty', 'ORG'), ('Rishi Sunak', 'PERSON'), ('Health', 'ORG'), ('Matt Hancock', 'PERSON'), ('England', 'GPE'), ('second', 'ORDINAL'), ('Grant Shapps', 'PERSON'), ('BBC Breakfast', 'ORG'), ('Peter Horby', 'PERSON'), ('Scientific Advisory Group for Emergencies (Sage', 'ORG'), ('UK', 'GPE'), ('early this year', 'DATE'), ('March', 'DATE'), (\"BBC Radio 4's\", 'ORG'), ('Prof Karol Sikora', 'PERSON'), ('the University of Buckinghamshire', 'ORG'), (\"the World Health Organization's\", 'ORG'), ('second', 'ORDINAL'), ('Jonathan Ashworth', 'PERSON')]\n"
     ]
    }
   ],
   "source": [
    "doc = nlp(text)\n",
    "print([(ent.text, ent.label_) for ent in doc.ents])"
   ]
  },
  {
   "cell_type": "code",
   "execution_count": null,
   "metadata": {},
   "outputs": [],
   "source": [
    "'ORG', 'PERSON', 'GPE', 'FAC'"
   ]
  },
  {
   "cell_type": "code",
   "execution_count": 58,
   "metadata": {},
   "outputs": [
    {
     "data": {
      "text/plain": [
       "[('Patrick Vallance', 'PERSON'),\n",
       " ('Covid-19The UK', 'PERSON'),\n",
       " ('Patrick Vallance', 'PERSON'),\n",
       " ('Prof Chris Whitty', 'PERSON'),\n",
       " ('Patrick', 'PERSON'),\n",
       " ('Whitty', 'PERSON'),\n",
       " ('Patrick', 'PERSON'),\n",
       " ('Patrick', 'PERSON'),\n",
       " ('Nicola Sturgeon', 'PERSON'),\n",
       " ('Welsh Health', 'PERSON'),\n",
       " ('Vaughan Gething', 'PERSON'),\n",
       " ('Boris Johnson', 'PERSON'),\n",
       " ('Matt Hancock', 'PERSON'),\n",
       " ('Rishi Sunak', 'PERSON'),\n",
       " ('Matt Hancock', 'PERSON'),\n",
       " ('Grant Shapps', 'PERSON'),\n",
       " ('Peter Horby', 'PERSON'),\n",
       " ('Prof Karol Sikora', 'PERSON'),\n",
       " ('Jonathan Ashworth', 'PERSON')]"
      ]
     },
     "execution_count": 58,
     "metadata": {},
     "output_type": "execute_result"
    }
   ],
   "source": [
    " [t for t in interestWords if t[1].startswith('PERSON')]"
   ]
  },
  {
   "cell_type": "code",
   "execution_count": 16,
   "metadata": {},
   "outputs": [
    {
     "data": {
      "text/plain": [
       "[('Cobra', 'ORG'),\n",
       " ('the House of Commons', 'ORG'),\n",
       " ('Prof Whitty', 'ORG'),\n",
       " ('ONS study)Less', 'ORG'),\n",
       " ('LondonThe', 'ORG'),\n",
       " ('Whitty', 'ORG'),\n",
       " ('Wales', 'ORG'),\n",
       " ('First', 'ORG'),\n",
       " ('Health', 'ORG'),\n",
       " ('Prof Whitty', 'ORG'),\n",
       " ('Health', 'ORG'),\n",
       " ('BBC Breakfast', 'ORG'),\n",
       " ('Scientific Advisory Group for Emergencies (Sage', 'ORG'),\n",
       " (\"BBC Radio 4's\", 'ORG'),\n",
       " ('the University of Buckinghamshire', 'ORG'),\n",
       " (\"the World Health Organization's\", 'ORG')]"
      ]
     },
     "execution_count": 16,
     "metadata": {},
     "output_type": "execute_result"
    }
   ],
   "source": [
    " [t for t in interestWords if t[1].startswith('ORG')]"
   ]
  },
  {
   "cell_type": "code",
   "execution_count": 17,
   "metadata": {},
   "outputs": [
    {
     "data": {
      "text/plain": [
       "[('UK', 'GPE'),\n",
       " ('UK', 'GPE'),\n",
       " ('UK', 'GPE'),\n",
       " ('Spain', 'GPE'),\n",
       " ('France', 'GPE'),\n",
       " ('UK', 'GPE'),\n",
       " ('UK', 'GPE'),\n",
       " ('Northern Ireland', 'GPE'),\n",
       " ('England', 'GPE'),\n",
       " ('West Yorkshire', 'GPE'),\n",
       " ('Midlands', 'GPE'),\n",
       " ('Scotland', 'GPE'),\n",
       " ('UK', 'GPE'),\n",
       " ('England', 'GPE'),\n",
       " ('Laura', 'GPE'),\n",
       " ('England', 'GPE'),\n",
       " ('UK', 'GPE')]"
      ]
     },
     "execution_count": 17,
     "metadata": {},
     "output_type": "execute_result"
    }
   ],
   "source": [
    " [t for t in interestWords if t[1].startswith('GPE')]"
   ]
  },
  {
   "cell_type": "code",
   "execution_count": 18,
   "metadata": {},
   "outputs": [
    {
     "data": {
      "text/plain": [
       "[('Downing Street', 'FAC'),\n",
       " ('Downing Street', 'FAC'),\n",
       " ('Downing Street', 'FAC')]"
      ]
     },
     "execution_count": 18,
     "metadata": {},
     "output_type": "execute_result"
    }
   ],
   "source": [
    " [t for t in interestWords if t[1].startswith('FAC')]"
   ]
  },
  {
   "cell_type": "code",
   "execution_count": null,
   "metadata": {},
   "outputs": [],
   "source": [
    "\n",
    "nlp = spacy.load(\"en_core_web_sm\")\n",
    "doc = nlp(\"Dr. Alex Smith chaired first board meeting of Acme Corp Inc.\")\n",
    "print([(ent.text, ent.label_) for ent in doc.ents])"
   ]
  },
  {
   "cell_type": "code",
   "execution_count": 1,
   "metadata": {},
   "outputs": [],
   "source": [
    "# Suggested tags: 'ORG', 'PERSON', 'GPE', 'FAC'\n",
    "#\n",
    "# ORG - Companies, agencies, institutions, etc.\n",
    "# PERSON - People, including fictional.\n",
    "# GPE - Countries, cities, states.\n",
    "# FAC - Buildings, airports, highways, bridges, etc.\n",
    "#\n",
    "def namedEntityRecognition(url, tag):\n",
    "    import spacy\n",
    "\n",
    "    text = getText(url)\n",
    "    ### analysing the text \n",
    "    nlp = spacy.load(\"en_core_web_sm\")\n",
    "    doc = nlp(text)\n",
    "    \n",
    "    interestWords = [(ent.text, ent.label_) for ent in doc.ents]\n",
    "    list_all_values = [tup[0] for tup in interestWords if any(i in tup for i in [tag])]\n",
    "        \n",
    "    return(list(set(list_all_values))) ### LIST WITH DISTINCT VALUES"
   ]
  },
  {
   "cell_type": "code",
   "execution_count": 4,
   "metadata": {
    "tags": []
   },
   "outputs": [
    {
     "output_type": "stream",
     "name": "stdout",
     "text": [
      "PERSON - People, including fictional.\n",
      "['Miller', 'Covid', 'Donald Trump', 'Stephen Miller', 'Trump']\n",
      "ORG - Companies, agencies, institutions, etc.\n",
      "['White House', 'the White House', 'Walter Reed', 'Trump']\n",
      "GPE - Countries, cities, states.\n",
      "['US']\n"
     ]
    }
   ],
   "source": [
    "###url = \"https://www.bbc.co.uk/news/uk-54234084\"\n",
    "###url = 'https://www.bbc.co.uk/news/science-environment-54442782'\n",
    "###url = 'https://www.theguardian.com/politics/2020/oct/07/up-to-30000-affordable-houses-to-be-scrapped-under-tory-planning-reforms'\n",
    "url = 'https://www.theguardian.com/world/live/2020/oct/07/coronavirus-live-news-six-us-states-see-record-hospital-patients-facebook-deletes-trump-post'\n",
    "\n",
    "#'ORG', 'PERSON', 'GPE', 'FAC'\n",
    "\n",
    "tag = 'PERSON'\n",
    "print('PERSON - People, including fictional.')\n",
    "print(namedEntityRecognition(url, tag))\n",
    "\n",
    "tag = 'ORG'\n",
    "print('ORG - Companies, agencies, institutions, etc.')\n",
    "print(namedEntityRecognition(url, tag))\n",
    "\n",
    "print('GPE - Countries, cities, states.')\n",
    "tag = 'GPE'\n",
    "print(namedEntityRecognition(url, tag))\n",
    "\n",
    "#tag = 'FAC'\n",
    "#print('FAC - Buildings, airports, highways, bridges, etc.')\n",
    "#print(namedEntityRecognition(url, tag))\n"
   ]
  },
  {
   "cell_type": "code",
   "execution_count": 102,
   "metadata": {},
   "outputs": [
    {
     "data": {
      "text/plain": [
       "'There is a history with the Conservatives and unemployment. Those with long memories remember Norman Lamont saying in 1991 that unemployment was a price “well worth paying” to get inflation down and before him, John Major said, “If it isn’t hurting, it isn’t working”. They lived with these phrases for years to come – they were emblematic of a strategy.Ministers have said this government is different. Indeed, the chancellor, Rishi Sunak, used to say that this is not a time for “ideology and orthodoxy”. But despite the rhetoric, a political choice has been made, representing precisely the wrong philosophical, economic and social way forward for the country. It will be many, many businesses, people and our economy that will pay the price.This wrong choice starts with the “viability” threshold that rules shut-down businesses out of support. Tens of thousands of businesses and a million or more jobs are in parts of the economy that have been wholly or almost wholly shut down. Weddings, events, conferences, arts, clubs, indoor play, bowling alleys. The list is long. Cinemas, facing a perfect storm of delayed film releases and reduced capacity, are the latest to join that list. The government is essentially consigning thousands of businesses and whole swathes of our economy to the scrapheap.What will happen to those businesses, those workers left in the cold? The business secretary, Alok Sharma, says they can find “better jobs” or the “welfare system”. This viability test – which deems only those businesses in which employees can work at least a third of normal hours as worthy of support – represents a monumental insult to so many people and the livelihoods they love. A classical musician who has trained for many years, a small business owner in the wedding industry who has built up a fantastic reputation, an events planner, a live performer, a restaurant manager, a sound technician, a supplier, a choreographer, a caterer. The same principle applies – these are jobs and careers that were specifically chosen and loved.Now they are being told they are not viable because they are shut to help tackle the transmission of the virus. It is outrageous. These are the very businesses and people the government has always claimed to stand up for – those working hard and paying their taxes.Then there is the misnamed job support scheme. To be clear, this is a million miles from the successful German Kurzarbeit scheme. It demands employers pay 55% support for 33% of the hours, offers half the level of government support compared with the German scheme and, in fact, gives an incentive to employ one person full-time rather than two part-time.On top of all this, with vacancies well below pre-crisis levels, far from being in the midst of an FDR-style New Deal, there is no recovery plan, no ambition to create jobs on a large scale. Boris Johnson has announced funding for offshore wind turbines which he says could create 60,000 jobs over 10 years – but that is just a very small fraction of the number of jobs at risk right now. While Germany and France are investing tens of billions of euros on green recovery, so far in the UK we have had some retrofit measures for the housing market, a promise of training in six months’ time, and investment in wind energy that, while welcome, is a drop in the ocean.If there is one lesson we have relearned as a country in this crisis, it is our overriding duty to look after each other – that our fates are bound together. That is why Labour supported the government when it implemented the furlough scheme in March and introduced targeted support for businesses in affected sectors. The principle was that economic support should work in tandem with public health measures.You cannot foster a spirit of solidarity for six months, and then, when the going gets even tougher, with restrictions being reimposed, revert to a sink-or-swim mentality. That is not the way a business, an economy, or a nation gets through a crisis.It makes no sense to have supported these businesses and sectors in March, only to write them off in October. These were viable businesses before the crisis, major players for our economy, and would be again afterwards. If they are left out in the cold now, and then told in six months they can reopen, what will remain of these vibrant businesses?Let’s not succumb to the notion that the government cannot afford to act, because ministers have said repeatedly: “Not acting in this crisis costs more than acting.” They are right. They are spending £9bn on the job retention bonus available from the end of January. Yet by failing to properly target it, they risk the funds going to firms that would have rehired people anyway, while others are forced to make cuts as they struggle throughout the winter. They talk of balancing the books, but simply letting the market adjust will mean people and the public purse will pay the consequences in lost businesses, jobs and higher unemployment.It may well be that this crisis accelerates changes in the way our economy is structured, but the question is whether this will happen in a planned or unplanned way. If we allow it to happen in an unplanned way, by writing off whole sectors, we will pay a long-term price.We need to keep supporting businesses through this crisis and not impose artificial tests of viability. We need a job support scheme that works. We need a plan for a green recovery and reskilling that meets the scale of this economic emergency. The decisions we take now will have a profound effect on businesses and our economy for years to come. It is essential that a coalition of forces, including businesses and workers right across the country, persuades the government to take the right path. Whatever the government seems to think, we are still in this together.• Ed Miliband is the Labour MP for Doncaster North and is shadow business, energy and industry secretary'"
      ]
     },
     "execution_count": 102,
     "metadata": {},
     "output_type": "execute_result"
    }
   ],
   "source": [
    "text = getText(url)\n",
    "text"
   ]
  },
  {
   "cell_type": "code",
   "execution_count": null,
   "metadata": {},
   "outputs": [],
   "source": []
  },
  {
   "cell_type": "code",
   "execution_count": null,
   "metadata": {},
   "outputs": [],
   "source": []
  }
 ],
 "metadata": {
  "kernelspec": {
   "display_name": "Python 3",
   "language": "python",
   "name": "python3"
  },
  "language_info": {
   "codemirror_mode": {
    "name": "ipython",
    "version": 3
   },
   "file_extension": ".py",
   "mimetype": "text/x-python",
   "name": "python",
   "nbconvert_exporter": "python",
   "pygments_lexer": "ipython3",
   "version": "3.8.5-final"
  }
 },
 "nbformat": 4,
 "nbformat_minor": 4
}